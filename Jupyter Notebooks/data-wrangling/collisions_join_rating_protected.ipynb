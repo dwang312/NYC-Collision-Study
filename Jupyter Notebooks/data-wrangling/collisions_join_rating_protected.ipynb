{
 "cells": [
  {
   "cell_type": "code",
   "execution_count": null,
   "metadata": {},
   "outputs": [],
   "source": [
    "import pandas as pd"
   ]
  },
  {
   "cell_type": "code",
   "execution_count": null,
   "metadata": {},
   "outputs": [],
   "source": [
    "df_street_rating = pd.read_csv('data/Street_Pavement_Rating_20240310.csv', low_memory=False)\n",
    "df_protected = pd.read_csv('data/NYCDOT_ProtectedStreets_332024.csv')"
   ]
  },
  {
   "cell_type": "markdown",
   "metadata": {},
   "source": [
    "# Merging with Street Rating Dataset"
   ]
  },
  {
   "cell_type": "code",
   "execution_count": null,
   "metadata": {},
   "outputs": [],
   "source": [
    "# Replace with your methodology for loading the data"
   ]
  },
  {
   "cell_type": "code",
   "execution_count": null,
   "metadata": {},
   "outputs": [],
   "source": [
    "df['geometry'] = gpd.points_from_xy(df['LONGITUDE'], df['LATITUDE'])\n",
    "gdf = gpd.GeoDataFrame(df,geometry=df['geometry'],crs='EPSG:4326')\n",
    "gdf.head()"
   ]
  },
  {
   "cell_type": "code",
   "execution_count": null,
   "metadata": {},
   "outputs": [],
   "source": [
    "gdf_street = gpd.read_file('data/Street_Pavement_Rating_20240310.csv')\n",
    "gdf_street.crs = 'EPSG:4326'\n",
    "gdf_street['the_geom'] = gdf_street['the_geom'].apply(wkt.loads)\n",
    "gdf_street = gdf_street.set_geometry('the_geom')"
   ]
  },
  {
   "cell_type": "code",
   "execution_count": null,
   "metadata": {},
   "outputs": [],
   "source": [
    "gdf_merge = gpd.sjoin_nearest(gdf, gdf_street, how='left', distance_col='distance')"
   ]
  },
  {
   "cell_type": "markdown",
   "metadata": {},
   "source": [
    "# Merging with Protected Streets Dataset"
   ]
  },
  {
   "cell_type": "code",
   "execution_count": null,
   "metadata": {},
   "outputs": [],
   "source": [
    "def check_protected_status(row, df_protected):\n",
    "    protected_rows = df_protected[df_protected['protected'] == row['protected']]\n",
    "    if not protected_rows.empty:\n",
    "        protected_row = protected_rows.iloc[0]\n",
    "        crash_date = pd.to_datetime(row['CRASH DATE'])\n",
    "        completed_on_date = pd.to_datetime(protected_row['Completed on Date'])\n",
    "        protected_until_date = pd.to_datetime(protected_row['Protected Until Date'])\n",
    "        if crash_date > completed_on_date and crash_date < protected_until_date:\n",
    "            return True, completed_on_date  # Return True and completed on date if protected\n",
    "        else:\n",
    "            return False, None  # Return False if not protected\n",
    "    else:\n",
    "        return False, None  # Return False if protected data is not available"
   ]
  },
  {
   "cell_type": "code",
   "execution_count": null,
   "metadata": {},
   "outputs": [],
   "source": [
    "# Remove leading and trailing whitespace from street names\n",
    "df.loc[:, 'ON STREET NAME'] = df['ON STREET NAME'].str.strip()\n",
    "df.loc[:, 'CROSS STREET NAME'] = df['CROSS STREET NAME'].str.strip()\n",
    "\n",
    "# Concatenate two columns to create pairs in one order\n",
    "df['INTERSECTION'] = df[['ON STREET NAME', 'CROSS STREET NAME']].astype(str).apply(sorted, axis=1).apply(' and '.join)\n",
    "\n",
    "df_protected['protected'] = df_protected[[' On Street', 'From Street']].astype(str).apply(sorted, axis=1).apply(' and '.join)\n",
    "\n",
    "# Mergedf with df_protected based on the protected column\n",
    "df =df[df['INTERSECTION'] != 'nan and nan']\n",
    "\n",
    "merged_df = pd.merge(df, df_protected, on='protected', suffixes=('_crashes', '_protected'))\n",
    "\n",
    "# Convert date columns to datetime if they are not already\n",
    "merged_df['CRASH DATE'] = pd.to_datetime(merged_df['CRASH DATE'])\n",
    "merged_df['Completed on Date'] = pd.to_datetime(merged_df['Completed on Date'])\n",
    "merged_df['Protected Until Date'] = pd.to_datetime(merged_df['Protected Until Date'])\n",
    "\n",
    "\n",
    "# Check if crash occurred during protected status\n",
    "merged_df['PROTECTED'] = (merged_df['CRASH DATE'] > merged_df['Completed on Date']) # & \\\n",
    "                        #  (merged_df['CRASH DATE'] < merged_df['Protected Until Date'])\n",
    "\n",
    "# Fill False for rows where protected not found\n",
    "#merged_df['PROTECTED'].fillna(False, inplace=True)\n",
    "\n",
    "# Extract PROTECTED column todf DataFrame\n",
    "df['PROTECTED'] = merged_df['PROTECTED']\n",
    "df['PROTECTED SINCE'] = merged_df['Completed on Date']\n",
    "df.head()"
   ]
  }
 ],
 "metadata": {
  "kernelspec": {
   "display_name": "fws-datasci",
   "language": "python",
   "name": "python3"
  },
  "language_info": {
   "name": "python",
   "version": "3.12.0"
  }
 },
 "nbformat": 4,
 "nbformat_minor": 2
}
